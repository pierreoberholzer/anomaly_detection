{
 "cells": [
  {
   "cell_type": "markdown",
   "metadata": {},
   "source": [
    "# Introduction\n",
    "\n",
    "This notebook takes the historical data you have been provided and constructs three models - AutoEncoder, One Class SVM, PCA-based - as an illustration of how you might want to proceed with your own analysis. If you would like to understand more about any of these models please ask any of the workshop coveners.\n",
    "\n",
    "## Anomaly Detection\n",
    "\n",
    "The goal of anomaly detection is to identify example feature sets which look like outliers with respect to the bulk of data. The key assumption is that there are at least two non-overlapping underlying statistical distributions with the exmaples we are interseted in, the anomalies, coming from a rarely sampled distribution with respect to the bulk of the data.\n",
    "\n",
    "In a real world analysis we would usually not know which data are from which distribution, at least until we start investigating the cause of statistical anomalies in the field through some kind of inspection process. In this workshop you have been provided with inspection results which effectively label the different distributions. That means in principle you can implement a supervised learning approach to get better performance, or at least bias the training data in favour of the distribution you would like to learn in an unsupervised or semi-supervised learning approach. In fact we do the latter in the following workflow by removing the labeled fraud data from the training set.\n",
    "\n",
    "A genenral lesson is that detection of fraud is a process which will require a feedback loop from inspections in the field to gradually improve model performance. Furthermore as the system you are trying to model is itself intelligent (fraudsters might change their behavior in response to a systematic pattern in inspections, or the inspection results themselve can become corrupt), the system is adversarial. It will therefore be necessary to evolve the modeling strategy in response to changes in the underlying system. You might want to think about the implications for running and managing such a model which is going to indentify future fraud cases."
   ]
  },
  {
   "cell_type": "markdown",
   "metadata": {},
   "source": [
    "# 1. Load and Inspect the Data\n",
    "\n",
    "First we would like to get a feeling for the data and understand which features may be predictive for the target we are training variable we are training for."
   ]
  },
  {
   "cell_type": "code",
   "execution_count": 1,
   "metadata": {},
   "outputs": [],
   "source": [
    "import numpy as np\n",
    "import pandas as pd\n",
    "import seaborn as sns\n",
    "import matplotlib.pyplot as plt\n",
    "%matplotlib inline"
   ]
  },
  {
   "cell_type": "code",
   "execution_count": 2,
   "metadata": {},
   "outputs": [
    {
     "data": {
      "text/plain": [
       "'/Users/Pierre/Desktop/ML days/user_template'"
      ]
     },
     "execution_count": 2,
     "metadata": {},
     "output_type": "execute_result"
    }
   ],
   "source": [
    "import os\n",
    "os.getcwd()"
   ]
  },
  {
   "cell_type": "code",
   "execution_count": 3,
   "metadata": {
    "scrolled": true
   },
   "outputs": [
    {
     "name": "stdout",
     "output_type": "stream",
     "text": [
      "38412\n"
     ]
    },
    {
     "data": {
      "text/html": [
       "<div>\n",
       "<style>\n",
       "    .dataframe thead tr:only-child th {\n",
       "        text-align: right;\n",
       "    }\n",
       "\n",
       "    .dataframe thead th {\n",
       "        text-align: left;\n",
       "    }\n",
       "\n",
       "    .dataframe tbody tr th {\n",
       "        vertical-align: top;\n",
       "    }\n",
       "</style>\n",
       "<table border=\"1\" class=\"dataframe\">\n",
       "  <thead>\n",
       "    <tr style=\"text-align: right;\">\n",
       "      <th></th>\n",
       "      <th>Record ID</th>\n",
       "      <th>Certificate Number</th>\n",
       "      <th>Business Name</th>\n",
       "      <th>Inspection Date</th>\n",
       "      <th>Inspection Result</th>\n",
       "      <th>Borough</th>\n",
       "      <th>Building Number</th>\n",
       "      <th>Street</th>\n",
       "      <th>Description</th>\n",
       "      <th>City</th>\n",
       "      <th>...</th>\n",
       "      <th>S20</th>\n",
       "      <th>S21</th>\n",
       "      <th>S22</th>\n",
       "      <th>S23</th>\n",
       "      <th>S24</th>\n",
       "      <th>S25</th>\n",
       "      <th>S26</th>\n",
       "      <th>S27</th>\n",
       "      <th>S28</th>\n",
       "      <th>Vol</th>\n",
       "    </tr>\n",
       "  </thead>\n",
       "  <tbody>\n",
       "    <tr>\n",
       "      <th>0</th>\n",
       "      <td>26459-2017-ENFO</td>\n",
       "      <td>5403790</td>\n",
       "      <td>NYC GOURMET DELI INC.</td>\n",
       "      <td>04/19/2017</td>\n",
       "      <td>Violation Issued</td>\n",
       "      <td>Manhattan</td>\n",
       "      <td>853</td>\n",
       "      <td>9TH AVE</td>\n",
       "      <td>NaN</td>\n",
       "      <td>NEW YORK</td>\n",
       "      <td>...</td>\n",
       "      <td>0.126911</td>\n",
       "      <td>0.517232</td>\n",
       "      <td>-0.035049</td>\n",
       "      <td>-0.465211</td>\n",
       "      <td>0.320198</td>\n",
       "      <td>0.044519</td>\n",
       "      <td>0.177840</td>\n",
       "      <td>0.261145</td>\n",
       "      <td>-0.143276</td>\n",
       "      <td>0.00</td>\n",
       "    </tr>\n",
       "    <tr>\n",
       "      <th>1</th>\n",
       "      <td>70754-2016-ENFO</td>\n",
       "      <td>5402310</td>\n",
       "      <td>2922 DELI FOOD INC</td>\n",
       "      <td>10/31/2016</td>\n",
       "      <td>Violation Issued</td>\n",
       "      <td>Manhattan</td>\n",
       "      <td>2922</td>\n",
       "      <td>FREDERICK DOUGLASS BLVD</td>\n",
       "      <td>NaN</td>\n",
       "      <td>NEW YORK</td>\n",
       "      <td>...</td>\n",
       "      <td>2.102339</td>\n",
       "      <td>0.661696</td>\n",
       "      <td>0.435477</td>\n",
       "      <td>1.375966</td>\n",
       "      <td>-0.293803</td>\n",
       "      <td>0.279798</td>\n",
       "      <td>-0.145362</td>\n",
       "      <td>-0.252773</td>\n",
       "      <td>0.035764</td>\n",
       "      <td>529.00</td>\n",
       "    </tr>\n",
       "    <tr>\n",
       "      <th>2</th>\n",
       "      <td>19411-2016-ENFO</td>\n",
       "      <td>5390237</td>\n",
       "      <td>WESTCHESTER PAWNBROKER INC.</td>\n",
       "      <td>03/21/2016</td>\n",
       "      <td>Violation Issued</td>\n",
       "      <td>Bronx</td>\n",
       "      <td>1617</td>\n",
       "      <td>WESTCHESTER AVE</td>\n",
       "      <td>NaN</td>\n",
       "      <td>BRONX</td>\n",
       "      <td>...</td>\n",
       "      <td>-0.430022</td>\n",
       "      <td>-0.294166</td>\n",
       "      <td>-0.932391</td>\n",
       "      <td>0.172726</td>\n",
       "      <td>-0.087330</td>\n",
       "      <td>-0.156114</td>\n",
       "      <td>-0.542628</td>\n",
       "      <td>0.039566</td>\n",
       "      <td>-0.153029</td>\n",
       "      <td>239.93</td>\n",
       "    </tr>\n",
       "    <tr>\n",
       "      <th>3</th>\n",
       "      <td>11253-2017-ENFO</td>\n",
       "      <td>5406421</td>\n",
       "      <td>WHOLE FOODS MARKET GROUP, INC.</td>\n",
       "      <td>2017-10-02 00:00:00</td>\n",
       "      <td>Violation Issued</td>\n",
       "      <td>Brooklyn</td>\n",
       "      <td>214</td>\n",
       "      <td>3RD ST</td>\n",
       "      <td>NaN</td>\n",
       "      <td>BROOKLYN</td>\n",
       "      <td>...</td>\n",
       "      <td>-0.171608</td>\n",
       "      <td>0.573574</td>\n",
       "      <td>0.176968</td>\n",
       "      <td>-0.436207</td>\n",
       "      <td>-0.053502</td>\n",
       "      <td>0.252405</td>\n",
       "      <td>-0.657488</td>\n",
       "      <td>-0.827136</td>\n",
       "      <td>0.849573</td>\n",
       "      <td>59.00</td>\n",
       "    </tr>\n",
       "    <tr>\n",
       "      <th>4</th>\n",
       "      <td>74088-2017-ENFO</td>\n",
       "      <td>5422856</td>\n",
       "      <td>785 GRAND FOOD CORP.</td>\n",
       "      <td>2017-07-12 00:00:00</td>\n",
       "      <td>Violation Issued</td>\n",
       "      <td>Brooklyn</td>\n",
       "      <td>785</td>\n",
       "      <td>GRAND ST</td>\n",
       "      <td>NaN</td>\n",
       "      <td>BROOKLYN</td>\n",
       "      <td>...</td>\n",
       "      <td>0.009061</td>\n",
       "      <td>-0.379068</td>\n",
       "      <td>-0.704181</td>\n",
       "      <td>-0.656805</td>\n",
       "      <td>-1.632653</td>\n",
       "      <td>1.488901</td>\n",
       "      <td>0.566797</td>\n",
       "      <td>-0.010016</td>\n",
       "      <td>0.146793</td>\n",
       "      <td>1.00</td>\n",
       "    </tr>\n",
       "  </tbody>\n",
       "</table>\n",
       "<p>5 rows × 41 columns</p>\n",
       "</div>"
      ],
      "text/plain": [
       "         Record ID Certificate Number                   Business Name  \\\n",
       "0  26459-2017-ENFO            5403790           NYC GOURMET DELI INC.   \n",
       "1  70754-2016-ENFO            5402310              2922 DELI FOOD INC   \n",
       "2  19411-2016-ENFO            5390237     WESTCHESTER PAWNBROKER INC.   \n",
       "3  11253-2017-ENFO            5406421  WHOLE FOODS MARKET GROUP, INC.   \n",
       "4  74088-2017-ENFO            5422856            785 GRAND FOOD CORP.   \n",
       "\n",
       "       Inspection Date Inspection Result    Borough Building Number  \\\n",
       "0           04/19/2017  Violation Issued  Manhattan             853   \n",
       "1           10/31/2016  Violation Issued  Manhattan            2922   \n",
       "2           03/21/2016  Violation Issued      Bronx            1617   \n",
       "3  2017-10-02 00:00:00  Violation Issued   Brooklyn             214   \n",
       "4  2017-07-12 00:00:00  Violation Issued   Brooklyn             785   \n",
       "\n",
       "                    Street Description      City   ...         S20       S21  \\\n",
       "0                  9TH AVE         NaN  NEW YORK   ...    0.126911  0.517232   \n",
       "1  FREDERICK DOUGLASS BLVD         NaN  NEW YORK   ...    2.102339  0.661696   \n",
       "2          WESTCHESTER AVE         NaN     BRONX   ...   -0.430022 -0.294166   \n",
       "3                   3RD ST         NaN  BROOKLYN   ...   -0.171608  0.573574   \n",
       "4                 GRAND ST         NaN  BROOKLYN   ...    0.009061 -0.379068   \n",
       "\n",
       "        S22       S23       S24       S25       S26       S27       S28  \\\n",
       "0 -0.035049 -0.465211  0.320198  0.044519  0.177840  0.261145 -0.143276   \n",
       "1  0.435477  1.375966 -0.293803  0.279798 -0.145362 -0.252773  0.035764   \n",
       "2 -0.932391  0.172726 -0.087330 -0.156114 -0.542628  0.039566 -0.153029   \n",
       "3  0.176968 -0.436207 -0.053502  0.252405 -0.657488 -0.827136  0.849573   \n",
       "4 -0.704181 -0.656805 -1.632653  1.488901  0.566797 -0.010016  0.146793   \n",
       "\n",
       "      Vol  \n",
       "0    0.00  \n",
       "1  529.00  \n",
       "2  239.93  \n",
       "3   59.00  \n",
       "4    1.00  \n",
       "\n",
       "[5 rows x 41 columns]"
      ]
     },
     "execution_count": 3,
     "metadata": {},
     "output_type": "execute_result"
    }
   ],
   "source": [
    "# read excel requires python package xlrd\n",
    "raw_data = pd.read_excel('/Users/Pierre/Desktop/ML days/Historic_data_WS_EPFL.xlsx')\n",
    "print(len(raw_data))\n",
    "raw_data.head()"
   ]
  },
  {
   "cell_type": "markdown",
   "metadata": {},
   "source": [
    "There are 38212 examples and 41 features per example, some categorical and some numeric. The target value we are interested in can be inferred from the column `Inspection Result` so lets look at that column in more detail:"
   ]
  },
  {
   "cell_type": "code",
   "execution_count": 4,
   "metadata": {},
   "outputs": [
    {
     "name": "stdout",
     "output_type": "stream",
     "text": [
      "No Violation Issued    25737\n",
      "Pass                   12277\n",
      "Violation Issued         344\n",
      "Warning                   32\n",
      "Fail                      22\n",
      "Name: Inspection Result, dtype: int64\n"
     ]
    }
   ],
   "source": [
    "print(raw_data['Inspection Result'].value_counts())"
   ]
  },
  {
   "cell_type": "markdown",
   "metadata": {},
   "source": [
    "It looks like we can further refine these categories into two classes, `normal` and `fraud`, given that e.g., `Pass` and `No Violation Issued` are likely synonymous. Let's add a new variable `class` which assigns this binary label:"
   ]
  },
  {
   "cell_type": "code",
   "execution_count": 5,
   "metadata": {
    "collapsed": true
   },
   "outputs": [],
   "source": [
    "# create the column 'class' from the column 'Inspection Result'\n",
    "raw_data['class'] = ['normal' if ires in ['No Violation Issued','Pass'] else 'fraud' \n",
    "                     for ires in raw_data['Inspection Result']]"
   ]
  },
  {
   "cell_type": "markdown",
   "metadata": {},
   "source": [
    "Let's now look at the balance of our binary labels:"
   ]
  },
  {
   "cell_type": "code",
   "execution_count": 6,
   "metadata": {},
   "outputs": [
    {
     "name": "stdout",
     "output_type": "stream",
     "text": [
      "normal    0.989639\n",
      "fraud     0.010361\n",
      "Name: class, dtype: float64\n"
     ]
    }
   ],
   "source": [
    "# display fraction of each binary label\n",
    "print(raw_data['class'].value_counts(normalize=True))"
   ]
  },
  {
   "cell_type": "code",
   "execution_count": 7,
   "metadata": {},
   "outputs": [
    {
     "data": {
      "text/plain": [
       "'0.20.3'"
      ]
     },
     "execution_count": 7,
     "metadata": {},
     "output_type": "execute_result"
    }
   ],
   "source": [
    "pd.__version__"
   ]
  },
  {
   "cell_type": "markdown",
   "metadata": {},
   "source": [
    "It looks like frauds are occuring in about 1% of cases. Given this, and given that we have the luxury of inspection result information to give us this information in the first place, a reasonable approach might be to model the distribution of normal data as well as possible and then use a hypthesis test to see if any new example was indeed drawn from that distribution. Note that we are assuming that inspection results are 100% reliable - no one has been paying off a corrupt inspector to get a favorable report."
   ]
  },
  {
   "cell_type": "markdown",
   "metadata": {},
   "source": [
    "Next let's inspect the other features and see which may be useful as input to a model:"
   ]
  },
  {
   "cell_type": "code",
   "execution_count": 8,
   "metadata": {
    "scrolled": false
   },
   "outputs": [
    {
     "name": "stdout",
     "output_type": "stream",
     "text": [
      "\n",
      "##### HAS NULL VALUES #####\n",
      "\n",
      "Record ID             False\n",
      "Certificate Number    False\n",
      "Business Name          True\n",
      "Inspection Date       False\n",
      "Borough                True\n",
      "Building Number        True\n",
      "Street                 True\n",
      "Description            True\n",
      "City                   True\n",
      "State                  True\n",
      "Zip                    True\n",
      "S1                    False\n",
      "S2                    False\n",
      "S3                    False\n",
      "S4                    False\n",
      "S5                    False\n",
      "S6                    False\n",
      "S7                    False\n",
      "S8                    False\n",
      "S9                    False\n",
      "S10                   False\n",
      "S11                   False\n",
      "S12                   False\n",
      "S13                   False\n",
      "S14                   False\n",
      "S15                   False\n",
      "S16                   False\n",
      "S17                   False\n",
      "S18                   False\n",
      "S19                   False\n",
      "S20                   False\n",
      "S21                   False\n",
      "S22                   False\n",
      "S23                   False\n",
      "S24                   False\n",
      "S25                   False\n",
      "S26                   False\n",
      "S27                   False\n",
      "S28                   False\n",
      "Vol                   False\n",
      "dtype: bool\n",
      "\n",
      "##### DATA TYPES #####\n",
      "\n",
      "Record ID              object\n",
      "Certificate Number     object\n",
      "Business Name          object\n",
      "Inspection Date        object\n",
      "Borough                object\n",
      "Building Number        object\n",
      "Street                 object\n",
      "Description            object\n",
      "City                   object\n",
      "State                  object\n",
      "Zip                   float64\n",
      "S1                    float64\n",
      "S2                    float64\n",
      "S3                    float64\n",
      "S4                    float64\n",
      "S5                    float64\n",
      "S6                    float64\n",
      "S7                    float64\n",
      "S8                    float64\n",
      "S9                    float64\n",
      "S10                   float64\n",
      "S11                   float64\n",
      "S12                   float64\n",
      "S13                   float64\n",
      "S14                   float64\n",
      "S15                   float64\n",
      "S16                   float64\n",
      "S17                   float64\n",
      "S18                   float64\n",
      "S19                   float64\n",
      "S20                   float64\n",
      "S21                   float64\n",
      "S22                   float64\n",
      "S23                   float64\n",
      "S24                   float64\n",
      "S25                   float64\n",
      "S26                   float64\n",
      "S27                   float64\n",
      "S28                   float64\n",
      "Vol                   float64\n",
      "dtype: object\n",
      "\n",
      "##### UNIQUE ENTRIES #####\n",
      "\n",
      "Record ID             37951\n",
      "Certificate Number    38361\n",
      "Business Name         24762\n",
      "Inspection Date         608\n",
      "Inspection Result         5\n",
      "Borough                  10\n",
      "Building Number        7901\n",
      "Street                 2087\n",
      "Description             306\n",
      "City                    138\n",
      "State                     8\n",
      "Zip                     274\n",
      "S1                    37513\n",
      "S2                    37513\n",
      "S3                    37513\n",
      "S4                    37513\n",
      "S5                    37513\n",
      "S6                    37513\n",
      "S7                    37513\n",
      "S8                    37513\n",
      "S9                    37513\n",
      "S10                   37513\n",
      "S11                   37513\n",
      "S12                   37513\n",
      "S13                   37513\n",
      "S14                   37513\n",
      "S15                   37513\n",
      "S16                   37513\n",
      "S17                   37513\n",
      "S18                   37513\n",
      "S19                   37513\n",
      "S20                   37513\n",
      "S21                   37513\n",
      "S22                   37513\n",
      "S23                   37513\n",
      "S24                   37513\n",
      "S25                   37513\n",
      "S26                   37513\n",
      "S27                   37513\n",
      "S28                   37513\n",
      "Vol                   10437\n",
      "class                     2\n",
      "dtype: int64\n"
     ]
    }
   ],
   "source": [
    "print(\"\\n##### HAS NULL VALUES #####\\n\")\n",
    "print(raw_data.drop(['class', 'Inspection Result'], axis=1).isnull().any())\n",
    "print(\"\\n##### DATA TYPES #####\\n\")\n",
    "print(raw_data.drop(['class', 'Inspection Result'], axis=1).dtypes)\n",
    "print(\"\\n##### UNIQUE ENTRIES #####\\n\")\n",
    "print(raw_data.nunique())"
   ]
  },
  {
   "cell_type": "markdown",
   "metadata": {},
   "source": [
    "We can see that perhaps the numeric data appears to be more reliable that than categorical data. So a reasonable first iteration of the model building process might just proceed with the numeric features: `Vol`, `S1`, `S2`, ..., `S27`, `S28`. If the model turns out not to be performant we can always investigate adding the categorical data as inputs in a second iteration."
   ]
  },
  {
   "cell_type": "markdown",
   "metadata": {},
   "source": [
    "We will now do some basic visualization of the 29 numeric data features to see if there are any indications they might help us identify anomalous feature sets and if they are well suited to being used as input for a multivariate model:"
   ]
  },
  {
   "cell_type": "code",
   "execution_count": 9,
   "metadata": {},
   "outputs": [
    {
     "data": {
      "image/png": "[encoded data removed]",
      "text/plain": [
       "<matplotlib.figure.Figure at 0x1a0a536f28>"
      ]
     },
     "metadata": {},
     "output_type": "display_data"
    }
   ],
   "source": [
    "# plot frequency historgrams of the numerical data\n",
    "numeric_cols = ['Vol'] + ['S{}'.format(i) for i in range(1,29)]\n",
    "\n",
    "grid = sns.FacetGrid(pd.melt(raw_data[numeric_cols]), col='variable', col_wrap=5, sharex=False)\n",
    "grid.map(plt.hist, \"value\", alpha=.5)\n",
    "pass"
   ]
  },
  {
   "cell_type": "markdown",
   "metadata": {},
   "source": [
    "We can see that several distributions are skewed, this is encouraging as we might expect anomalies to appear in the tails of skewed distributions. If that is the case then it's a reasonable to expect we can train a model with decent performance. We could go further here and explicitly overlay the `normal` and `fraud` data on the same plots to see if there is indeed separation. In fact below we will use a slightly difference method to do this across all the numeric data dimensions."
   ]
  },
  {
   "cell_type": "markdown",
   "metadata": {},
   "source": [
    "Next let's see how correlated the variables are:"
   ]
  },
  {
   "cell_type": "code",
   "execution_count": 10,
   "metadata": {},
   "outputs": [
    {
     "data": {
      "image/png": "[encoded data removed]",
      "text/plain": [
       "<matplotlib.figure.Figure at 0x1a0c850ef0>"
      ]
     },
     "metadata": {},
     "output_type": "display_data"
    }
   ],
   "source": [
    "# compute the correlation matrix as a Dataframe\n",
    "corr_mat = raw_data[numeric_cols].corr()\n",
    "\n",
    "# Generate a mask for the upper triangle\n",
    "mask = np.zeros_like(corr_mat, dtype=np.bool)\n",
    "mask[np.triu_indices_from(mask)] = True\n",
    "\n",
    "# Set up the matplotlib figure\n",
    "fig, axes = plt.subplots(figsize=(11, 9))\n",
    "\n",
    "# Generate a custom diverging colormap\n",
    "cmap = sns.diverging_palette(220, 10, as_cmap=True)\n",
    "\n",
    "# Draw the heatmap with the mask and correct aspect ratio\n",
    "sns.heatmap(corr_mat, mask=mask, cmap=cmap, vmax=1.0, vmin=-1.0, center=0,\n",
    "            square=True, linewidths=.5, cbar_kws={\"shrink\": .5})\n",
    "pass"
   ]
  },
  {
   "cell_type": "markdown",
   "metadata": {},
   "source": [
    "We can see that the correlation between variables is generally low, this is incouraging particularly if we were thinking of doing supervised classification with a random forest."
   ]
  },
  {
   "cell_type": "markdown",
   "metadata": {},
   "source": [
    "If we were to investigate how the categorical data are distributed across the numeric data TSNE is a potential option. We will not perform TSNE here as it can be very computationally expensive, even for this relatively small dataset. \n",
    "We would run it as follows:\n",
    "```python\n",
    "from sklearn.manifold import TSNE\n",
    "\n",
    "# transform the numeric data to 2 components\n",
    "tsne = TSNE(n_components=2, random_state=11235)\n",
    "X_tsne = tsne.fit_transform(raw_data[numeric_cols])\n",
    "\n",
    "# visualize the t-SNE result\n",
    "data_to_plot = pd.concat(\n",
    "    [raw_data, pd.DataFrame(X_tsne, columns = ['tsne_x', 'tsne_y'])], \n",
    "    axis=1\n",
    ")\n",
    "\n",
    "# for each category of interest plot the TSNE result\n",
    "categories = ['Inspection Result', 'Class', 'State', 'Borough']\n",
    "for col in cols_overlay: \n",
    "    sns.lmplot(\n",
    "        x='tsne_x', y='tsne_y', \n",
    "        data=data_to_plot, fit_reg=False, \n",
    "        hue=col, scatter_kws={'alpha':0.3}, size=10, aspect=1\n",
    "    )\n",
    "```\n"
   ]
  },
  {
   "cell_type": "markdown",
   "metadata": {},
   "source": [
    "# 2. Split and Scale the Data\n",
    "\n",
    "We now need to assign our train, validation and test samples so that we can make fair assessments when deciding which model or set of hyperparameters performs best. Although the data provided can be ordered in time, each example can be thought of as independent so we can randomly split the data. Note that in a lot of anomaly problems time order is important meaning the data separation method will need to be non-random in that case. Please ask one of the conveners if you don't understand why. As mentioned above we are going to use the luxury of our inspection labels to remove the frauds from the training data, if you would like to try and build the model with those still present, which is more challenging but more representative of what a new anomaly detection project might look like then please do!"
   ]
  },
  {
   "cell_type": "code",
   "execution_count": null,
   "metadata": {},
   "outputs": [],
   "source": [
    "from sklearn.model_selection import train_test_split\n",
    "\n",
    "# fix the random seed for reproducible results\n",
    "RANDOM_SEED = 1234\n",
    "\n",
    "# separate the input features and target data into appropriate matrices\n",
    "X_all = raw_data[numeric_cols].values\n",
    "y_all = raw_data['class'].values\n",
    "\n",
    "# first split the train from the test with ratio 2:1 \n",
    "X_train_all, X_test, y_train_all, y_test = train_test_split(\n",
    "    X_all, y_all, test_size=0.2, random_state=RANDOM_SEED\n",
    ")\n",
    "\n",
    "# further split train into train and validation\n",
    "X_train, X_val, y_train, y_val, = train_test_split(\n",
    "    X_train_all, y_train_all, test_size=0.25, random_state=RANDOM_SEED+4321\n",
    ")\n",
    "\n",
    "print(\"TRAIN input shape={}; target shape={}; normal={};  fraud={}\"\n",
    "      .format(X_train.shape, y_train.shape, \n",
    "              len(y_train[y_train=='normal']), len(y_train[y_train=='fraud']))\n",
    "     )\n",
    "print(\"VAL   input shape= {}; target shape={};  normal={};   fraud={}\"\n",
    "      .format(X_val.shape, y_val.shape, \n",
    "              len(y_val[y_val=='normal']), len(y_val[y_val=='fraud']))\n",
    "     )\n",
    "print(\"TEST  input shape= {}; target shape={};  normal={};   fraud={}\"\n",
    "      .format(X_test.shape, y_test.shape, \n",
    "              len(y_test[y_test=='normal']), len(y_test[y_test=='fraud']))\n",
    "     )"
   ]
  },
  {
   "cell_type": "markdown",
   "metadata": {},
   "source": [
    "We can see from the frequency histograms that some features have significantly larger ranges than others. We might be able to improve the convergence of gradient descent and associated methods if the features are in the same range. If we are planning to use activations such as sigmoid or tanh in our model we might choose to have the range correspond to the dynamic range of those activations. For now we will use the standard scaler but feel free to change this if you want to investigate whether the choice of scaler can improve performance. As the choice of scaler is effectively a tunable hyperparameter we will fit it with the train dataset and then apply it to all datasets."
   ]
  },
  {
   "cell_type": "code",
   "execution_count": null,
   "metadata": {
    "collapsed": true
   },
   "outputs": [],
   "source": [
    "from sklearn.preprocessing import StandardScaler\n",
    "\n",
    "scaler = StandardScaler()\n",
    "scaler.fit(X_train)\n",
    "\n",
    "X_train_scaled = scaler.transform(X_train)\n",
    "X_val_scaled = scaler.transform(X_val)\n",
    "X_test_scaled = scaler.transform(X_test)"
   ]
  },
  {
   "cell_type": "markdown",
   "metadata": {},
   "source": [
    "We also save the scaler to disk as we will need it to make predictions in a production environment:"
   ]
  },
  {
   "cell_type": "code",
   "execution_count": null,
   "metadata": {
    "collapsed": true
   },
   "outputs": [],
   "source": [
    "from sklearn.externals import joblib\n",
    "\n",
    "joblib.dump(scaler, 'scaler.model')\n",
    "pass"
   ]
  },
  {
   "cell_type": "markdown",
   "metadata": {},
   "source": [
    "# 3. Model Training\n",
    "\n",
    "We will try three model strategies for our anomaly detection:\n",
    "* Autoencoder implemented with Keras with tensorflow backend\n",
    "* One Class SVM implemented with scikit-learn\n",
    "* PCA deconstruction and inverse implemented with scikit-learn"
   ]
  },
  {
   "cell_type": "markdown",
   "metadata": {},
   "source": [
    "## Autoencoder\n",
    "\n",
    "The autoencoder model aims to derive a data driven representation of the identity function. Given that by far the majority of the training data are of class `normal` we might expect this identity mapping to perform well for that class and less well for the class where we have far fewer training examples. It follows that if we calculate the performance of the mapping using, e.g., mean squared error, and determine the 99% quantile of the performance we might start to identify the `fraud` class. Let's see how it performs:"
   ]
  },
  {
   "cell_type": "markdown",
   "metadata": {},
   "source": [
    "First we construct the model. We will use a shallow autoencoder with no hyperparameter optimization (the setup of the hidden layer is fairly arbitrary and there may be significant room for improvement). As the model will have number of parameters comparable to a significant fraction of the training dataset we feel it's necessary to implement regularization to avoid overfitting; we use simple L1 but it might be interesting to see if dropout can improve performance:"
   ]
  },
  {
   "cell_type": "code",
   "execution_count": null,
   "metadata": {},
   "outputs": [],
   "source": [
    "from keras.layers import Input, Dense\n",
    "from keras.models import Model\n",
    "from keras import regularizers\n",
    "import keras.backend as K\n",
    "\n",
    "K.clear_session()\n",
    "\n",
    "# input layer of 29 numeric features\n",
    "input_layer = Input(shape=(29, ))\n",
    "\n",
    "# encoding layer with arbitrary hyperparameters and L1 regularization\n",
    "encoder = Dense(\n",
    "    20, activation=\"relu\",\n",
    "    activity_regularizer=regularizers.l1(10e-5)\n",
    ")(input_layer)\n",
    "\n",
    "# decoding layer\n",
    "decoder = Dense(29, activation='relu')(encoder)\n",
    "\n",
    "# book the model and summarize \n",
    "autoencoder = Model(inputs=input_layer, outputs=decoder)\n",
    "autoencoder.summary()"
   ]
  },
  {
   "cell_type": "markdown",
   "metadata": {},
   "source": [
    "Next configure and train the model, we will save the model for later use, note this introduces a hidden dependency to `h5py`:"
   ]
  },
  {
   "cell_type": "code",
   "execution_count": null,
   "metadata": {
    "scrolled": false
   },
   "outputs": [],
   "source": [
    "from keras.callbacks import ModelCheckpoint, TensorBoard\n",
    "\n",
    "# require model be saved and logged\n",
    "checkpointer = ModelCheckpoint(filepath=\"model.h5\",\n",
    "                               verbose=0,\n",
    "                               save_best_only=True)\n",
    "\n",
    "tensorboard = TensorBoard(log_dir='./logs',\n",
    "                          histogram_freq=0,\n",
    "                          write_graph=True,\n",
    "                          write_images=True)\n",
    "\n",
    "# compile the model for training\n",
    "autoencoder.compile(optimizer='adam', loss='mean_squared_error', \n",
    "                    metrics=['mae', 'acc'])\n",
    "\n",
    "n_epochs = 100\n",
    "batch_size = 64\n",
    "\n",
    "# train\n",
    "history = (\n",
    "    autoencoder.fit(\n",
    "        X_train_scaled, X_train_scaled,\n",
    "        epochs=n_epochs,\n",
    "        batch_size=batch_size,\n",
    "        shuffle=True,\n",
    "        verbose=1,\n",
    "        validation_data=[X_val_scaled, X_val_scaled],\n",
    "        callbacks=[checkpointer, tensorboard]\n",
    "    ).history\n",
    ")"
   ]
  },
  {
   "cell_type": "markdown",
   "metadata": {},
   "source": [
    "Now we have a trained model let's plot the loss evolution as a function of training input:"
   ]
  },
  {
   "cell_type": "code",
   "execution_count": null,
   "metadata": {},
   "outputs": [],
   "source": [
    "plt.plot(history['val_loss'])\n",
    "plt.plot(history['loss'])\n",
    "plt.legend(['val_loss','loss'])\n",
    "pass"
   ]
  },
  {
   "cell_type": "markdown",
   "metadata": {},
   "source": [
    "We can see that there is not too much divergence between the validation and training datasets, and that the curve has started to flatten at higher epochs with respect to the initial twenty. Now we want to use the test data to determine the 99% threshold which assigns an anomaly and see how that impact the performance of anomaly detection on the validation data:"
   ]
  },
  {
   "cell_type": "code",
   "execution_count": null,
   "metadata": {},
   "outputs": [],
   "source": [
    "from keras.models import load_model\n",
    "from sklearn.metrics import mean_squared_error\n",
    "\n",
    "K.clear_session()\n",
    "\n",
    "trained_model = load_model('model.h5')\n",
    "\n",
    "train_predicted = trained_model.predict(X_train_scaled)\n",
    "\n",
    "train_mse = mean_squared_error(train_predicted.T, X_train_scaled.T, multioutput='raw_values')\n",
    "\n",
    "thresh_train = np.percentile(train_mse, 99)\n",
    "print(thresh_train)"
   ]
  },
  {
   "cell_type": "markdown",
   "metadata": {},
   "source": [
    "We will first visualize the mse plots for both target classes, and then for the validation data plot the confusion matrix and show precision and recall:"
   ]
  },
  {
   "cell_type": "code",
   "execution_count": null,
   "metadata": {
    "scrolled": false
   },
   "outputs": [],
   "source": [
    "from sklearn.metrics import precision_score, recall_score\n",
    "from amld_functions import plot_confmat\n",
    "\n",
    "# propagate the scaled validation data through prediction workflow\n",
    "val_predicted = trained_model.predict(X_val_scaled)\n",
    "val_mse = mean_squared_error(val_predicted.T, X_val_scaled.T, multioutput='raw_values')\n",
    "val_model_status = ['normal' if imse < thresh_train else 'fraud' for imse in val_mse]\n",
    "\n",
    "# plot the mse residuals\n",
    "pred_res = pd.DataFrame(dict(mse=val_mse, label=y_val))\n",
    "pred_res['index'] = pred_res.index\n",
    "pred_res.groupby('label')['mse'].apply(np.mean)\n",
    "fig = sns.lmplot(data=pred_res, x='index', y='mse',\n",
    "                 hue='label', fit_reg=False, size=5, aspect=2.5)\n",
    "\n",
    "# plot the confusion matrix\n",
    "plot_confmat(y_val, val_model_status)\n",
    "\n",
    "pr = precision_score(y_val, val_model_status, pos_label='fraud')\n",
    "rc = recall_score(y_val, val_model_status, pos_label='fraud')\n",
    "print(\"Precision: {:0.2f}; Recall: {:0.2f}\".format(pr, rc))"
   ]
  },
  {
   "cell_type": "markdown",
   "metadata": {},
   "source": [
    "We have moderate performance, how might this change if we take advantage of the inspection labels and only train the autoencoder using data from the `normal` class?"
   ]
  },
  {
   "cell_type": "markdown",
   "metadata": {},
   "source": [
    "We will not go through the next examples in as much detail, just present the trainind code and validation performance."
   ]
  },
  {
   "cell_type": "markdown",
   "metadata": {},
   "source": [
    "## One Class SVM\n",
    "\n",
    "Again keep in mind that there has been no hyperparameter optimization in the following."
   ]
  },
  {
   "cell_type": "code",
   "execution_count": null,
   "metadata": {},
   "outputs": [],
   "source": [
    "from sklearn.svm import OneClassSVM\n",
    "\n",
    "# fit the model\n",
    "mod_svm = OneClassSVM(nu=0.1, kernel='rbf', gamma=0.01)\n",
    "mod_svm.fit(X_train_scaled)\n",
    "\n",
    "# predict\n",
    "val_model_status = ['normal' if ival ==1 else 'fraud' for ival in mod_svm.predict(X_val_scaled)]\n",
    "\n",
    "#save the model\n",
    "joblib.dump(mod_svm, 'svm.model')\n",
    "\n",
    "# plot the confusion matrix\n",
    "plot_confmat(y_val, val_model_status)\n",
    "\n",
    "pr = precision_score(y_val, val_model_status, pos_label='fraud')\n",
    "rc = recall_score(y_val, val_model_status, pos_label='fraud')\n",
    "print(\"Precision: {:0.2f}; Recall: {:0.2f}\".format(pr, rc))"
   ]
  },
  {
   "cell_type": "markdown",
   "metadata": {},
   "source": [
    "## PCA-Based Anomaly\n",
    "\n",
    "This uses the same workflow as the autoencoder, we will optimize the downsample step by determine how many components in PCA explain 95% of the variance:"
   ]
  },
  {
   "cell_type": "code",
   "execution_count": null,
   "metadata": {},
   "outputs": [],
   "source": [
    "from sklearn import decomposition\n",
    "\n",
    "# find number of components retaining 95% variance\n",
    "pca = decomposition.PCA()\n",
    "pca.fit(X_train_scaled)\n",
    "\n",
    "# plot the variance as a function of components\n",
    "plt.plot(pca.explained_variance_ratio_.cumsum())\n",
    "plt.title('Cumulative explained variance')\n",
    "\n",
    "# determine the number of components to use\n",
    "cum_var = pca.explained_variance_ratio_.cumsum()\n",
    "num_comp = cum_var[cum_var <= 0.95].argmax()\n",
    "print('Number of components to be used = {}'.format(num_comp))\n",
    "\n",
    "# perform PCA decomposition on the train set\n",
    "pca = decomposition.PCA(n_components=num_comp)\n",
    "pca.fit(X_train_scaled)\n",
    "\n",
    "# save the model\n",
    "joblib.dump(pca, 'pca.model')\n",
    "\n",
    "pass"
   ]
  },
  {
   "cell_type": "code",
   "execution_count": null,
   "metadata": {},
   "outputs": [],
   "source": [
    "# calculate the threshold from the training data\n",
    "\n",
    "X_train_pca = pca.transform(X_train_scaled)\n",
    "X_train_projected = pca.inverse_transform(X_train_pca)\n",
    "\n",
    "X_train_mse = mean_squared_error(X_train_scaled.T, X_train_projected.T, multioutput='raw_values')\n",
    "\n",
    "thres_pca = np.percentile(X_train_mse, 99)\n",
    "\n",
    "print(thres_pca)"
   ]
  },
  {
   "cell_type": "code",
   "execution_count": null,
   "metadata": {},
   "outputs": [],
   "source": [
    "# propagate the scaled validation data through prediction workflow\n",
    "val_pca = pca.transform(X_val_scaled)\n",
    "val_projected = pca.inverse_transform(val_pca)\n",
    "val_mse = mean_squared_error(val_projected.T, X_val_scaled.T, multioutput='raw_values')\n",
    "val_model_status = ['normal' if imse < thres_pca else 'fraud' for imse in val_mse]\n",
    "\n",
    "# plot the mse residuals\n",
    "pred_res = pd.DataFrame(dict(mse=val_mse, label=y_val))\n",
    "pred_res['index'] = pred_res.index\n",
    "pred_res.groupby('label')['mse'].apply(np.mean)\n",
    "fig = sns.lmplot(data=pred_res, x='index', y='mse',\n",
    "                 hue='label', fit_reg=False, size=5, aspect=2.5)\n",
    "\n",
    "# plot the confusion matrix\n",
    "plot_confmat(y_val, val_model_status)\n",
    "\n",
    "pr = precision_score(y_val, val_model_status, pos_label='fraud')\n",
    "rc = recall_score(y_val, val_model_status, pos_label='fraud')\n",
    "print(\"Precision: {:0.2f}; Recall: {:0.2f}\".format(pr, rc))"
   ]
  },
  {
   "cell_type": "markdown",
   "metadata": {},
   "source": [
    "This model is not particularly performant. However, look what happens when we train omitting the fraud examples in the training set:"
   ]
  },
  {
   "cell_type": "code",
   "execution_count": null,
   "metadata": {},
   "outputs": [],
   "source": [
    "# retrain\n",
    "pca_updated = decomposition.PCA(n_components=num_comp)\n",
    "pca_updated.fit(X_train_scaled[np.where(y_train=='normal')])\n",
    "\n",
    "X_train_pca = pca_updated.transform(X_train_scaled)\n",
    "X_train_projected = pca_updated.inverse_transform(X_train_pca)\n",
    "\n",
    "X_train_mse = mean_squared_error(X_train_scaled.T, X_train_projected.T, multioutput='raw_values')\n",
    "\n",
    "thres_pca = np.percentile(X_train_mse, 99)\n",
    "\n",
    "joblib.dump(pca_updated, 'pca_updated.model')\n",
    "\n",
    "# propagate the scaled validation data through prediction workflow\n",
    "val_pca = pca_updated.transform(X_val_scaled)\n",
    "val_projected = pca_updated.inverse_transform(val_pca)\n",
    "val_mse = mean_squared_error(val_projected.T, X_val_scaled.T, multioutput='raw_values')\n",
    "val_model_status = ['normal' if imse < thres_pca else 'fraud' for imse in val_mse]\n",
    "\n",
    "# plot the mse residuals\n",
    "pred_res = pd.DataFrame(dict(mse=val_mse, label=y_val))\n",
    "pred_res['index'] = pred_res.index\n",
    "pred_res.groupby('label')['mse'].apply(np.mean)\n",
    "fig = sns.lmplot(data=pred_res, x='index', y='mse',\n",
    "                 hue='label', fit_reg=False, size=5, aspect=2.5)\n",
    "\n",
    "# plot the confusion matrix\n",
    "plot_confmat(y_val, val_model_status)\n",
    "\n",
    "pr = precision_score(y_val, val_model_status, pos_label='fraud')\n",
    "rc = recall_score(y_val, val_model_status, pos_label='fraud')\n",
    "print(\"Precision: {:0.2f}; Recall: {:0.2f}\".format(pr, rc))"
   ]
  },
  {
   "cell_type": "markdown",
   "metadata": {},
   "source": [
    "A significant improvement! This final lesson emphasizes how important it can be to work on the data science process iteratively, using feedback from running a non-perfect model in production so that feedback from the field can further improve the model performance."
   ]
  },
  {
   "cell_type": "code",
   "execution_count": null,
   "metadata": {
    "collapsed": true
   },
   "outputs": [],
   "source": []
  }
 ],
 "metadata": {
  "anaconda-cloud": {},
  "kernelspec": {
   "display_name": "Python [Root]",
   "language": "python",
   "name": "Python [Root]"
  },
  "language_info": {
   "codemirror_mode": {
    "name": "ipython",
    "version": 3
   },
   "file_extension": ".py",
   "mimetype": "text/x-python",
   "name": "python",
   "nbconvert_exporter": "python",
   "pygments_lexer": "ipython3",
   "version": "3.5.4"
  }
 },
 "nbformat": 4,
 "nbformat_minor": 2
}
